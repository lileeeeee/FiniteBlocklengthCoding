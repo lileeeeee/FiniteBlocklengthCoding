{
 "cells": [
  {
   "cell_type": "code",
   "execution_count": 1,
   "metadata": {
    "collapsed": true,
    "pycharm": {
     "name": "#%%\n"
    }
   },
   "outputs": [],
   "source": [
    "import random\n",
    "\n",
    "import tensorflow as tf\n",
    "from tensorflow.keras import layers\n",
    "import keras\n",
    "import numpy as np\n",
    "import math"
   ]
  },
  {
   "cell_type": "code",
   "execution_count": 2,
   "outputs": [],
   "source": [
    "def gen_g_data(n_dim, n_sample=100000):\n",
    "    c = np.ones(n_dim)\n",
    "    var_0 = np.identity(n_dim)\n",
    "\n",
    "    ori = np.random.multivariate_normal(c, var_0, n_sample)\n",
    "    return ori"
   ],
   "metadata": {
    "collapsed": false,
    "pycharm": {
     "name": "#%%\n"
    }
   }
  },
  {
   "cell_type": "code",
   "execution_count": 3,
   "outputs": [],
   "source": [
    "def gen_n_dim_gaussian(n_dim, lam = 1, n_sample = 100000):\n",
    "    mean = np.zeros(n_dim)\n",
    "    var = np.identity(n_dim)\n",
    "\n",
    "    return np.random.multivariate_normal(mean, lam * var, n_sample)"
   ],
   "metadata": {
    "collapsed": false,
    "pycharm": {
     "name": "#%%\n"
    }
   }
  },
  {
   "cell_type": "code",
   "execution_count": 4,
   "outputs": [],
   "source": [
    "def d_real_loss(real, fake):\n",
    "    \"\"\"\n",
    "    calculate the expectation of\n",
    "        real + 1 - fake\n",
    "\n",
    "    :param real:\n",
    "    :param fake:\n",
    "    :return:\n",
    "    \"\"\"\n",
    "    return tf.reduce_mean(real) + tf.reduce_mean(1. - fake)"
   ],
   "metadata": {
    "collapsed": false,
    "pycharm": {
     "name": "#%%\n"
    }
   }
  },
  {
   "cell_type": "code",
   "execution_count": 5,
   "outputs": [],
   "source": [
    "def d_metric(ori, contrast):\n",
    "    # get the probabilities\n",
    "    ori = Discriminator(ori, training=False)\n",
    "    contrast = Discriminator(contrast, training=False)\n",
    "\n",
    "    # get D^\n",
    "    ori = tf.where(ori < 0.5, 0., 1.)\n",
    "    contrast = tf.where(contrast < 0.5, 0., 1.)\n",
    "\n",
    "    # tf.print(\"true-positive\", tf.reduce_sum(ori))\n",
    "    # tf.print(\"false-positive\", tf.reduce_sum(contrast))\n",
    "\n",
    "    # print calculated TVD\n",
    "    a = d_real_loss(ori, contrast) - 1\n",
    "    # tf.print(\"TVD-ori\", metric, \"TVD-cal\", a, \"delta\", tf.abs(metric - a))\n",
    "    return a"
   ],
   "metadata": {
    "collapsed": false,
    "pycharm": {
     "name": "#%%\n"
    }
   }
  },
  {
   "cell_type": "code",
   "execution_count": 6,
   "outputs": [],
   "source": [
    "def inv_sphere_proj(raw_point, n_dim, n_train, radius):\n",
    "    \"\"\"inverse stereographic projection\n",
    "\n",
    "    n_dim:\n",
    "    the dimension of the original data\n",
    "\n",
    "    n_train:\n",
    "    the number of points to be projected\n",
    "\n",
    "    radius:\n",
    "    the radius of the sphere\n",
    "    \"\"\"\n",
    "\n",
    "    res = []\n",
    "    for i in range(n_train):\n",
    "        tmp = []\n",
    "        normal = tf.sqrt(tf.reduce_sum(tf.square(raw_point[i])))\n",
    "        for j in range(n_dim):\n",
    "            tmp.append(tf.reduce_sum((2 * raw_point[i][j] / (normal + 1) * radius)))\n",
    "        tmp.append(tf.reduce_sum(((normal - 1) / (normal + 1) * radius)))\n",
    "        res.append(tf.stack(tmp))\n",
    "    res = tf.stack(res)\n",
    "    return res"
   ],
   "metadata": {
    "collapsed": false,
    "pycharm": {
     "name": "#%%\n"
    }
   }
  },
  {
   "cell_type": "code",
   "execution_count": 7,
   "outputs": [],
   "source": [
    "n_sample = 1000"
   ],
   "metadata": {
    "collapsed": false,
    "pycharm": {
     "name": "#%%\n"
    }
   }
  },
  {
   "cell_type": "code",
   "execution_count": 8,
   "outputs": [
    {
     "name": "stdout",
     "output_type": "stream",
     "text": [
      "Metal device set to: Apple M1 Max\n",
      "WARNING:tensorflow:No training configuration found in the save file, so the model was *not* compiled. Compile it manually.\n",
      "WARNING:tensorflow:No training configuration found in the save file, so the model was *not* compiled. Compile it manually.\n"
     ]
    },
    {
     "name": "stderr",
     "output_type": "stream",
     "text": [
      "2022-09-10 18:35:19.053271: I tensorflow/core/common_runtime/pluggable_device/pluggable_device_factory.cc:305] Could not identify NUMA node of platform GPU ID 0, defaulting to 0. Your kernel may not have been built with NUMA support.\n",
      "2022-09-10 18:35:19.053387: I tensorflow/core/common_runtime/pluggable_device/pluggable_device_factory.cc:271] Created TensorFlow device (/job:localhost/replica:0/task:0/device:GPU:0 with 0 MB memory) -> physical PluggableDevice (device: 0, name: METAL, pci bus id: <undefined>)\n"
     ]
    },
    {
     "name": "stdout",
     "output_type": "stream",
     "text": [
      "0.0525471717\n",
      "0.0263786949\n",
      "0.0903455\n",
      "0.0990683287\n",
      "0.0787153\n",
      "0.125236794\n",
      "0.0205635931\n",
      "0.305507362\n",
      "-0.0172350835\n",
      "0.0816230252\n",
      "0.0787153\n",
      "0.104883775\n",
      "0.0438243449\n",
      "0.0729002\n",
      "0.174665675\n",
      "0.0903458446\n",
      "0.122329079\n",
      "-0.0666639656\n",
      "-0.0492186584\n",
      "0.0903455\n",
      "0.0554545484\n",
      "-0.00560488133\n",
      "0.0612696484\n",
      "0.128144175\n",
      "0.0699924752\n",
      "-0.0230505317\n",
      "-0.00269715744\n",
      "-0.0521260388\n",
      "0.0554545484\n",
      "0.0845307484\n",
      "0.0525468215\n",
      "0.101976052\n",
      "0.0670850947\n",
      "0.0932532251\n",
      "0.165942863\n",
      "0.0351015218\n",
      "0.00893339142\n",
      "0.0961609483\n",
      "0.00021056649\n",
      "0.0729002\n",
      "0.0118407691\n",
      "0.0932535678\n",
      "0.0321937948\n",
      "0.0438243449\n",
      "0.128144175\n",
      "0.0176558699\n",
      "0.0641777217\n",
      "0.0641773716\n",
      "0.0176562164\n",
      "0.00893339142\n"
     ]
    }
   ],
   "source": [
    "Generator = keras.models.load_model(\"model/c=0.5epoch=15/generator.h5\")\n",
    "Discriminator = keras.models.load_model(\"model/c=0.5epoch=15/discriminator.h5\")\n",
    "for i in range(50):\n",
    "    test_data = gen_g_data(10, n_sample)\n",
    "    gen_data = gen_n_dim_gaussian(10, 1, n_sample)\n",
    "    input_data = Generator(gen_data)\n",
    "    sphPoints = inv_sphere_proj(input_data, 9, n_sample, math.sqrt(10))\n",
    "    fake_test_data = sphPoints + gen_n_dim_gaussian(10, 1.5, n_sample)\n",
    "    tf.print((d_metric(test_data, fake_test_data) - 0.343927681) / 0.343927681)"
   ],
   "metadata": {
    "collapsed": false,
    "pycharm": {
     "name": "#%%\n"
    }
   }
  },
  {
   "cell_type": "code",
   "execution_count": 9,
   "outputs": [
    {
     "name": "stdout",
     "output_type": "stream",
     "text": [
      "WARNING:tensorflow:No training configuration found in the save file, so the model was *not* compiled. Compile it manually.\n",
      "WARNING:tensorflow:No training configuration found in the save file, so the model was *not* compiled. Compile it manually.\n",
      "-0.0100670261\n",
      "-0.0516910478\n",
      "-0.0480718128\n",
      "-0.0571203344\n",
      "-0.0173061453\n",
      "0.0152695701\n",
      "-0.0462619774\n",
      "-0.0426425263\n",
      "-0.0444521457\n",
      "-0.0498814322\n",
      "-0.00101828773\n",
      "-0.0498814322\n",
      "0.00441099843\n",
      "-0.00282790605\n",
      "-0.0535008833\n",
      "-0.0173059311\n",
      "0.0387963317\n",
      "-0.0462619774\n",
      "-0.0390228592\n",
      "-0.0426425263\n",
      "0.00441099843\n",
      "0.0261281431\n",
      "-0.0227352157\n",
      "-0.0154963117\n",
      "0.0858498588\n",
      "-0.0426425263\n",
      "-0.0299743358\n",
      "0.0152695701\n",
      "0.00984028447\n",
      "-0.00644757366\n",
      "0.000791546132\n",
      "-0.0136864781\n",
      "-0.0227352157\n",
      "-0.0118768597\n",
      "-0.06074\n",
      "-0.0571203344\n",
      "0.000791330414\n",
      "0.006220832\n",
      "-0.0372132398\n",
      "-0.0173061453\n",
      "0.0261281431\n",
      "-0.0335937887\n",
      "0.00803066604\n",
      "0.0134599525\n",
      "-0.0625496209\n",
      "0.0315572135\n",
      "-0.0100668101\n",
      "-0.00644757366\n",
      "-0.0480718128\n",
      "-0.00101828773\n"
     ]
    }
   ],
   "source": [
    "Generator = keras.models.load_model(\"model/c=1epoch=15/generator.h5\")\n",
    "Discriminator = keras.models.load_model(\"model/c=1epoch=15/discriminator.h5\")\n",
    "for i in range(50):\n",
    "    test_data = gen_g_data(10, n_sample)\n",
    "    gen_data = gen_n_dim_gaussian(10, 1, n_sample)\n",
    "    input_data = Generator(gen_data)\n",
    "    sphPoints = inv_sphere_proj(input_data, 9, n_sample, math.sqrt(10))\n",
    "    fake_test_data = sphPoints + gen_n_dim_gaussian(10, 2, n_sample)\n",
    "    tf.print((d_metric(test_data, fake_test_data) - 0.552562714) / 0.552562714)"
   ],
   "metadata": {
    "collapsed": false,
    "pycharm": {
     "name": "#%%\n"
    }
   }
  },
  {
   "cell_type": "code",
   "execution_count": 12,
   "outputs": [
    {
     "name": "stdout",
     "output_type": "stream",
     "text": [
      "WARNING:tensorflow:No training configuration found in the save file, so the model was *not* compiled. Compile it manually.\n",
      "WARNING:tensorflow:No training configuration found in the save file, so the model was *not* compiled. Compile it manually.\n",
      "-0.0232720021\n",
      "-0.0242830347\n",
      "-0.0333830491\n",
      "-0.0252941884\n",
      "-0.030349711\n",
      "-0.0232720021\n",
      "-0.0192276333\n",
      "-0.0374274179\n",
      "-0.0323720165\n",
      "-0.0414719097\n",
      "-0.0323718973\n",
      "-0.030349711\n",
      "-0.0323718973\n",
      "-0.0343940817\n",
      "-0.0263053402\n",
      "-0.0414719097\n",
      "-0.0343940817\n",
      "-0.0141719887\n",
      "-0.0343940817\n",
      "-0.0364163853\n",
      "-0.0252941884\n",
      "-0.0343940817\n",
      "-0.0151831415\n",
      "-0.0232720021\n",
      "-0.0323718973\n",
      "-0.0212498177\n",
      "-0.0293386783\n",
      "-0.0263053402\n",
      "-0.0222609695\n",
      "-0.030349711\n",
      "-0.0313608646\n",
      "-0.0273163728\n",
      "-0.0232720021\n",
      "-0.0323720165\n",
      "-0.0273163728\n",
      "-0.0182164796\n",
      "-0.0374274179\n",
      "-0.0273163728\n",
      "-0.030349711\n",
      "-0.0273163728\n",
      "-0.0222609695\n",
      "-0.0273163728\n",
      "-0.0283275247\n",
      "-0.020238664\n",
      "-0.0182164796\n",
      "-0.0263053402\n",
      "-0.0343940817\n",
      "-0.0242830347\n",
      "-0.0445051268\n",
      "-0.0242830347\n"
     ]
    }
   ],
   "source": [
    "Generator = keras.models.load_model(\"model/c=10epoch=30/generator.h5\")\n",
    "Discriminator = keras.models.load_model(\"model/c=10epoch=30/discriminator.h5\")\n",
    "for i in range(50):\n",
    "    test_data = gen_g_data(10, n_sample)\n",
    "    gen_data = gen_n_dim_gaussian(10, 1, n_sample)\n",
    "    input_data = Generator(gen_data)\n",
    "    sphPoints = inv_sphere_proj(input_data, 9, n_sample, math.sqrt(10))\n",
    "    fake_test_data = sphPoints + gen_n_dim_gaussian(10, 11, n_sample)\n",
    "    tf.print((d_metric(test_data, fake_test_data) - 0.989016473) / 0.989016473)"
   ],
   "metadata": {
    "collapsed": false,
    "pycharm": {
     "name": "#%%\n"
    }
   }
  },
  {
   "cell_type": "code",
   "execution_count": 20,
   "outputs": [],
   "source": [
    "import numpy as np\n",
    "a  = np.random.random((10,5))"
   ],
   "metadata": {
    "collapsed": false,
    "pycharm": {
     "name": "#%%\n"
    }
   }
  },
  {
   "cell_type": "code",
   "execution_count": 22,
   "outputs": [
    {
     "data": {
      "text/plain": "array([[0.7341332 , 0.63037366],\n       [0.71381344, 0.58253878],\n       [0.33585669, 0.40557331],\n       [0.51888003, 0.49725872],\n       [0.75951094, 0.0756263 ],\n       [0.84728424, 0.89179385],\n       [0.82929944, 0.43424306],\n       [0.81637646, 0.43209302],\n       [0.39651135, 0.93528132],\n       [0.57390997, 0.64628727]])"
     },
     "execution_count": 22,
     "metadata": {},
     "output_type": "execute_result"
    }
   ],
   "source": [
    "a[:,:2]"
   ],
   "metadata": {
    "collapsed": false,
    "pycharm": {
     "name": "#%%\n"
    }
   }
  },
  {
   "cell_type": "code",
   "execution_count": 10,
   "outputs": [
    {
     "data": {
      "text/plain": "array([0.83274888, 0.9939846 , 0.31596909, 0.05447689, 0.0813149 ,\n       0.67936586, 0.09360066, 0.73566398, 0.13293953, 0.75883761])"
     },
     "execution_count": 10,
     "metadata": {},
     "output_type": "execute_result"
    }
   ],
   "source": [
    "a * a"
   ],
   "metadata": {
    "collapsed": false,
    "pycharm": {
     "name": "#%%\n"
    }
   }
  },
  {
   "cell_type": "code",
   "execution_count": 12,
   "outputs": [
    {
     "data": {
      "text/plain": "4.678902011095536"
     },
     "execution_count": 12,
     "metadata": {},
     "output_type": "execute_result"
    }
   ],
   "source": [
    "(a*a).sum()"
   ],
   "metadata": {
    "collapsed": false,
    "pycharm": {
     "name": "#%%\n"
    }
   }
  },
  {
   "cell_type": "code",
   "execution_count": 25,
   "outputs": [
    {
     "data": {
      "text/plain": "array([[0.7341332 , 0.63037366, 0.75456397, 0.93032878, 0.26875958],\n       [0.71381344, 0.58253878, 0.31487357, 0.34280106, 0.69598909],\n       [0.33585669, 0.40557331, 0.35797095, 0.29917566, 0.1613315 ],\n       [0.51888003, 0.49725872, 0.1762209 , 0.1434058 , 0.60804367],\n       [0.75951094, 0.0756263 , 0.38864956, 0.57877381, 0.25279431],\n       [0.84728424, 0.89179385, 0.78106918, 0.22529227, 0.90539604],\n       [0.82929944, 0.43424306, 0.48173197, 0.45862155, 0.38851112],\n       [0.81637646, 0.43209302, 0.69814316, 0.94512075, 0.66282303],\n       [0.39651135, 0.93528132, 0.418282  , 0.31038226, 0.84723648],\n       [0.57390997, 0.64628727, 0.1495433 , 0.92642984, 0.91364709]])"
     },
     "execution_count": 25,
     "metadata": {},
     "output_type": "execute_result"
    }
   ],
   "source": [
    "a"
   ],
   "metadata": {
    "collapsed": false,
    "pycharm": {
     "name": "#%%\n"
    }
   }
  },
  {
   "cell_type": "code",
   "execution_count": 6,
   "outputs": [],
   "source": [
    "import numpy as np"
   ],
   "metadata": {
    "collapsed": false,
    "pycharm": {
     "name": "#%%\n"
    }
   }
  },
  {
   "cell_type": "code",
   "execution_count": 7,
   "outputs": [],
   "source": [
    "tmp = np.random.random((5, 5))\n",
    "tmp = np.dot(tmp, tmp.transpose())\n",
    "sig_G = tmp + tmp.T"
   ],
   "metadata": {
    "collapsed": false,
    "pycharm": {
     "name": "#%%\n"
    }
   }
  },
  {
   "cell_type": "code",
   "execution_count": 8,
   "outputs": [
    {
     "data": {
      "text/plain": "array([[2.82731935, 1.55988435, 1.45011379, 2.19563161, 2.06688764],\n       [1.55988435, 2.16539188, 1.47347009, 2.37951016, 2.3712208 ],\n       [1.45011379, 1.47347009, 2.79123566, 1.66814189, 2.40989925],\n       [2.19563161, 2.37951016, 1.66814189, 4.20022726, 3.58517219],\n       [2.06688764, 2.3712208 , 2.40989925, 3.58517219, 3.56953164]])"
     },
     "execution_count": 8,
     "metadata": {},
     "output_type": "execute_result"
    }
   ],
   "source": [
    "sig_G"
   ],
   "metadata": {
    "collapsed": false,
    "pycharm": {
     "name": "#%%\n"
    }
   }
  },
  {
   "cell_type": "code",
   "execution_count": 16,
   "outputs": [],
   "source": [
    "sig_G = np.array([[1,0],[0,1]])"
   ],
   "metadata": {
    "collapsed": false,
    "pycharm": {
     "name": "#%%\n"
    }
   }
  },
  {
   "cell_type": "code",
   "execution_count": 17,
   "outputs": [],
   "source": [
    "from scipy.integrate import dblquad"
   ],
   "metadata": {
    "collapsed": false,
    "pycharm": {
     "name": "#%%\n"
    }
   }
  },
  {
   "cell_type": "code",
   "execution_count": 30,
   "outputs": [],
   "source": [
    "def gauss(x, sigma):\n",
    "    return np.exp(-np.dot(np.dot(x, np.linalg.inv(sigma)), x) / 2) / (2 * np.pi) / np.sqrt(np.linalg.det(sigma))\n",
    "\n",
    "def cal_numerical_TVD(sigma, i, j, c):\n",
    "    sig = np.array([[sigma[i][i], sigma[i][j]], [sigma[j][i], sigma[j][j]]])\n",
    "    print(sig)\n",
    "    val,err = dblquad(lambda y, x: np.abs(gauss(np.array([x,y]), sig)- gauss(np.array([x,y]), c * sig)) / 2, -np.inf, np.inf, -np.inf, np.inf)\n",
    "    return val"
   ],
   "metadata": {
    "collapsed": false,
    "pycharm": {
     "name": "#%%\n"
    }
   }
  },
  {
   "cell_type": "code",
   "execution_count": 25,
   "outputs": [
    {
     "data": {
      "text/plain": "0.15915494309189535"
     },
     "execution_count": 25,
     "metadata": {},
     "output_type": "execute_result"
    }
   ],
   "source": [
    "gauss([0,0], sig_G)"
   ],
   "metadata": {
    "collapsed": false,
    "pycharm": {
     "name": "#%%\n"
    }
   }
  },
  {
   "cell_type": "code",
   "execution_count": 29,
   "outputs": [
    {
     "data": {
      "text/plain": "(1.0000000000000322, 1.3150127836595985e-08)"
     },
     "execution_count": 29,
     "metadata": {},
     "output_type": "execute_result"
    }
   ],
   "source": [
    "dblquad(lambda y, x: np.abs(gauss(np.array([x,y]), sig_G)), -np.inf, np.inf, -np.inf, np.inf)"
   ],
   "metadata": {
    "collapsed": false,
    "pycharm": {
     "name": "#%%\n"
    }
   }
  },
  {
   "cell_type": "code",
   "execution_count": 21,
   "outputs": [
    {
     "name": "stdout",
     "output_type": "stream",
     "text": [
      "[[1 0]\n",
      " [0 1]]\n"
     ]
    },
    {
     "data": {
      "text/plain": "0.49999991116798215"
     },
     "execution_count": 21,
     "metadata": {},
     "output_type": "execute_result"
    }
   ],
   "source": [
    "cal_numerical_TVD(sig_G, 0, 1, 2)"
   ],
   "metadata": {
    "collapsed": false,
    "pycharm": {
     "name": "#%%\n"
    }
   }
  },
  {
   "cell_type": "code",
   "execution_count": 22,
   "outputs": [],
   "source": [
    "import tensorflow as tf"
   ],
   "metadata": {
    "collapsed": false,
    "pycharm": {
     "name": "#%%\n"
    }
   }
  },
  {
   "cell_type": "code",
   "execution_count": 23,
   "outputs": [],
   "source": [
    "def g_metric_base(c, n_dim):\n",
    "    \"\"\"\n",
    "    TV distance 解析解\n",
    "\n",
    "    c:\n",
    "\n",
    "    n_dim:\n",
    "        dimension of the data\n",
    "    \"\"\"\n",
    "    r_sq = n_dim * (1 + c) * np.log(1 + c) / c\n",
    "    return tf.math.igamma(n_dim / 2, r_sq / 2) - tf.math.igamma(n_dim / 2, r_sq / (1 + c) / 2)"
   ],
   "metadata": {
    "collapsed": false,
    "pycharm": {
     "name": "#%%\n"
    }
   }
  },
  {
   "cell_type": "code",
   "execution_count": 24,
   "outputs": [
    {
     "name": "stdout",
     "output_type": "stream",
     "text": [
      "Metal device set to: Apple M1 Max\n"
     ]
    },
    {
     "name": "stderr",
     "output_type": "stream",
     "text": [
      "2022-08-28 23:17:23.786698: I tensorflow/core/common_runtime/pluggable_device/pluggable_device_factory.cc:305] Could not identify NUMA node of platform GPU ID 0, defaulting to 0. Your kernel may not have been built with NUMA support.\n",
      "2022-08-28 23:17:23.786881: I tensorflow/core/common_runtime/pluggable_device/pluggable_device_factory.cc:271] Created TensorFlow device (/job:localhost/replica:0/task:0/device:GPU:0 with 0 MB memory) -> physical PluggableDevice (device: 0, name: METAL, pci bus id: <undefined>)\n"
     ]
    },
    {
     "data": {
      "text/plain": "<tf.Tensor: shape=(), dtype=float32, numpy=0.24999994>"
     },
     "execution_count": 24,
     "metadata": {},
     "output_type": "execute_result"
    }
   ],
   "source": [
    "g_metric_base(1, 2)"
   ],
   "metadata": {
    "collapsed": false,
    "pycharm": {
     "name": "#%%\n"
    }
   }
  },
  {
   "cell_type": "code",
   "execution_count": 15,
   "outputs": [],
   "source": [
    "import random"
   ],
   "metadata": {
    "collapsed": false,
    "pycharm": {
     "name": "#%%\n"
    }
   }
  },
  {
   "cell_type": "code",
   "execution_count": 25,
   "outputs": [
    {
     "data": {
      "text/plain": "0"
     },
     "execution_count": 25,
     "metadata": {},
     "output_type": "execute_result"
    }
   ],
   "source": [
    "random.randint(0, 9)"
   ],
   "metadata": {
    "collapsed": false,
    "pycharm": {
     "name": "#%%\n"
    }
   }
  },
  {
   "cell_type": "code",
   "execution_count": 28,
   "outputs": [],
   "source": [
    "u_G = np.random.random(10)\n",
    "assert (u_G == 0).sum() != 10\n",
    "tmp = np.random.random((10, 10))\n",
    "tmp = np.dot(tmp, tmp.transpose())\n",
    "sig_G = tmp + tmp.T"
   ],
   "metadata": {
    "collapsed": false,
    "pycharm": {
     "name": "#%%\n"
    }
   }
  },
  {
   "cell_type": "code",
   "execution_count": 39,
   "outputs": [
    {
     "data": {
      "text/plain": "(array([[-2.53525332],\n        [-1.49494876],\n        [-0.18374018],\n        [ 1.16310874],\n        [-0.39519577]]),\n array([[-2.93411147],\n        [-3.32095802],\n        [ 1.95910148],\n        [ 1.50253966],\n        [ 1.3269711 ]]))"
     },
     "execution_count": 39,
     "metadata": {},
     "output_type": "execute_result"
    }
   ],
   "source": [
    "test_data = np.random.multivariate_normal(u_G, sig_G, 5)\n",
    "test_data[:, 1:2], test_data[:, 2:3]"
   ],
   "metadata": {
    "collapsed": false,
    "pycharm": {
     "name": "#%%\n"
    }
   }
  },
  {
   "cell_type": "code",
   "execution_count": 40,
   "outputs": [
    {
     "data": {
      "text/plain": "array([[-1.57885516, -2.53525332, -2.93411147, -1.75207227, -5.79340148,\n        -3.46264803, -1.58140696, -3.43348749, -2.59920705, -3.15014966],\n       [-3.21835578, -1.49494876, -3.32095802,  0.57149928, -4.14439394,\n        -0.38179985, -1.13094273, -2.28764882, -1.06886653,  1.61963383],\n       [ 1.66183768, -0.18374018,  1.95910148,  0.50917848,  0.22251862,\n         0.36584611, -0.82185373,  1.89565953,  0.19978984,  2.36237118],\n       [ 1.36999618,  1.16310874,  1.50253966,  2.04846763,  0.96897398,\n         0.54578795,  1.23706717,  1.35277076,  2.41742168,  1.63950555],\n       [ 1.12786427, -0.39519577,  1.3269711 ,  1.82747513,  2.75973176,\n         0.42076208,  0.19675107,  2.91231783,  2.47538466,  1.32900909]])"
     },
     "execution_count": 40,
     "metadata": {},
     "output_type": "execute_result"
    }
   ],
   "source": [
    "test_data"
   ],
   "metadata": {
    "collapsed": false,
    "pycharm": {
     "name": "#%%\n"
    }
   }
  },
  {
   "cell_type": "code",
   "execution_count": 41,
   "outputs": [],
   "source": [
    "test_data = tf.concat([test_data[:, 1:2], test_data[:, 2:3]], 1)"
   ],
   "metadata": {
    "collapsed": false,
    "pycharm": {
     "name": "#%%\n"
    }
   }
  },
  {
   "cell_type": "code",
   "execution_count": 42,
   "outputs": [
    {
     "data": {
      "text/plain": "<tf.Tensor: shape=(5, 2), dtype=float64, numpy=\narray([[-2.53525332, -2.93411147],\n       [-1.49494876, -3.32095802],\n       [-0.18374018,  1.95910148],\n       [ 1.16310874,  1.50253966],\n       [-0.39519577,  1.3269711 ]])>"
     },
     "execution_count": 42,
     "metadata": {},
     "output_type": "execute_result"
    }
   ],
   "source": [
    "test_data"
   ],
   "metadata": {
    "collapsed": false,
    "pycharm": {
     "name": "#%%\n"
    }
   }
  },
  {
   "cell_type": "code",
   "execution_count": null,
   "outputs": [],
   "source": [],
   "metadata": {
    "collapsed": false,
    "pycharm": {
     "name": "#%%\n"
    }
   }
  }
 ],
 "metadata": {
  "kernelspec": {
   "display_name": "Python 3",
   "language": "python",
   "name": "python3"
  },
  "language_info": {
   "codemirror_mode": {
    "name": "ipython",
    "version": 2
   },
   "file_extension": ".py",
   "mimetype": "text/x-python",
   "name": "python",
   "nbconvert_exporter": "python",
   "pygments_lexer": "ipython2",
   "version": "2.7.6"
  }
 },
 "nbformat": 4,
 "nbformat_minor": 0
}